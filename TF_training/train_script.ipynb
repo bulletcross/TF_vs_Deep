{
 "cells": [
  {
   "cell_type": "code",
   "execution_count": 1,
   "metadata": {},
   "outputs": [],
   "source": [
    "import pandas as pd\n",
    "import numpy as np\n",
    "import tensorflow as tf\n",
    "from tensorflow.python.tools import freeze_graph\n",
    "from tensorflow.python.tools import optimize_for_inference_lib\n",
    "import csv\n",
    "import math"
   ]
  },
  {
   "cell_type": "code",
   "execution_count": 2,
   "metadata": {},
   "outputs": [],
   "source": [
    "#Reading data file\n",
    "data_circle = pd.read_csv('circle.csv', sep=',',delimiter=None, header=None)\n",
    "data_cross = pd.read_csv('cross.csv', sep=',', delimiter=None, header=None)\n",
    "data_square = pd.read_csv('square.csv', sep=',', delimiter=None, header=None)\n",
    "data_triangle = pd.read_csv('triangle.csv', sep=',', delimiter=None, header=None)\n",
    "\n",
    "#Join data and shuffle randomly\n",
    "data_combined = pd.concat([data_circle, data_cross, data_square, data_triangle])\n",
    "data_combined.to_csv( index=False )\n",
    "data_combined = data_combined.reset_index()\n",
    "data_suffled = data_combined.sample(frac=1).reset_index(drop=True)\n",
    "data_suffled = data_suffled.drop('index',1)\n",
    "\n",
    "#Write csv back to the file\n",
    "#data_suffled.to_csv(\"combined_data.csv\", sep = ',')\n",
    "\n",
    "#Processing data as X_all and Y_all\n",
    "X_all = data_suffled.iloc[:,0:784]\n",
    "Y_all = data_suffled.iloc[:,784]\n",
    "\n",
    "\n",
    "#Converting Y_all to hot vectors\n",
    "#converter = lambda x: ord(x)-ord('A')\n",
    "#Y_all = list(map(converter,Y_all.values.T.tolist()))\n",
    "Y_all = list(Y_all.values.T.tolist())\n",
    "Y_all = pd.get_dummies(Y_all).values\n",
    "\n",
    "\n",
    "X_all = pd.DataFrame(X_all)\n",
    "Y_all = pd.DataFrame(Y_all)\n",
    "#print(X_all)\n",
    "#print(Y_all)\n"
   ]
  },
  {
   "cell_type": "code",
   "execution_count": 3,
   "metadata": {},
   "outputs": [
    {
     "name": "stdout",
     "output_type": "stream",
     "text": [
      "(409, 784)\n",
      "(409, 4)\n"
     ]
    }
   ],
   "source": [
    "print(X_all.shape)\n",
    "print(Y_all.shape)"
   ]
  },
  {
   "cell_type": "code",
   "execution_count": 4,
   "metadata": {},
   "outputs": [
    {
     "name": "stdout",
     "output_type": "stream",
     "text": [
      "[784, 1024, 100, 150, 20, 4]\n"
     ]
    }
   ],
   "source": [
    "NUM_CLASSES = Y_all.shape[1]\n",
    "INPUT_SIZE = X_all.shape[1]\n",
    "BATCH_SIZE = 20\n",
    "NR_STEP = int(X_all.shape[0]/BATCH_SIZE)\n",
    "NR_EPOCH = 50\n",
    "\n",
    "layer_info = [INPUT_SIZE, 1024, 100, 150, 20, NUM_CLASSES]\n",
    "layer_size = len(layer_info)\n",
    "\n",
    "logs_path = '/tf_log/'\n",
    "\n",
    "print(layer_info)"
   ]
  },
  {
   "cell_type": "code",
   "execution_count": 5,
   "metadata": {},
   "outputs": [],
   "source": [
    "def inference_graph(X, layer_info):\n",
    "    #Define weight, bias and output under different namescope\n",
    "    layer_input = X\n",
    "    for i in range(1,len(layer_info)-1):\n",
    "        with tf.name_scope('layer_'+str(i)):\n",
    "            W = tf.Variable(tf.truncated_normal([layer_info[i-1],layer_info[i]], \n",
    "                                                stddev=1.0/math.sqrt(float(layer_info[i-1]))),\n",
    "                           name = 'weight_'+str(i))\n",
    "            tf.summary.histogram('weight_histogram_'+str(i), W)\n",
    "            b = tf.Variable(tf.zeros([layer_info[i]]),\n",
    "                           name = 'bias_'+str(i))\n",
    "            tf.summary.histogram('bias_histogram_'+str(i), b)\n",
    "            layer_output = tf.nn.relu(tf.matmul(layer_input, W) + b)\n",
    "            \n",
    "            #print(layer_output)\n",
    "            \n",
    "            layer_input = layer_output\n",
    "    \n",
    "    nr_layer = len(layer_info)\n",
    "    with tf.name_scope('layer_'+str(nr_layer-1)):\n",
    "        W = tf.Variable(tf.truncated_normal([layer_info[nr_layer-2],layer_info[nr_layer-1]], \n",
    "                                            stddev=1.0/math.sqrt(float(layer_info[nr_layer-2]))),\n",
    "                       name = 'weight_'+str(nr_layer-1))\n",
    "        tf.summary.histogram('weight_histogram_'+str(nr_layer-1), W)\n",
    "        b = tf.Variable(tf.zeros([layer_info[nr_layer-1]]),\n",
    "                        name = 'bias_'+str(nr_layer-1))\n",
    "        tf.summary.histogram('bias_histogram_'+str(nr_layer-1), b)\n",
    "        layer_output = tf.matmul(layer_input, W) + b\n",
    "        softmax_output = tf.nn.softmax(layer_output, name='softmax_output')\n",
    "\n",
    "    return layer_output, softmax_output"
   ]
  },
  {
   "cell_type": "code",
   "execution_count": 6,
   "metadata": {},
   "outputs": [],
   "source": [
    "# Training graph construction\n",
    "\n",
    "def train_graph(softmax_output, logit, Y, learning_rate):\n",
    "    print(logit.shape)\n",
    "    with tf.name_scope('cross_entropy'):\n",
    "        softmax_entropy = tf.nn.softmax_cross_entropy_with_logits(labels=Y, logits=logit, name = 'xentropy')\n",
    "        loss = tf.reduce_mean(softmax_entropy, name = 'loss')\n",
    "        tf.summary.scalar('loss', loss)\n",
    "    \n",
    "    with tf.name_scope('train'):\n",
    "        optimizer = tf.train.GradientDescentOptimizer(learning_rate)\n",
    "        train_op = optimizer.minimize(loss)\n",
    "        \n",
    "    with tf.name_scope('accuracy'):\n",
    "        nr_correct = tf.equal(tf.argmax(Y,1), tf.argmax(softmax_output,1))\n",
    "        accuracy = tf.reduce_mean(tf.cast(nr_correct, tf.float32))\n",
    "        tf.summary.scalar('accuracy_mean', accuracy)\n",
    "    \n",
    "    return loss, train_op, accuracy"
   ]
  },
  {
   "cell_type": "code",
   "execution_count": 7,
   "metadata": {},
   "outputs": [],
   "source": [
    "#Saving graph to protobuf requires three things:\n",
    "#1. Saving graph defenition (format: pbtxt)\n",
    "#2. Saving weights checkpoint (format: chkp)\n",
    "#3. Freezing graph along with weight (format: pb)\n",
    "\n",
    "def export_model(input_name, output_name):\n",
    "    freeze_graph.freeze_graph(input_graph = \"model_1.pbtxt\", input_saver = \"\", input_binary = False,\n",
    "                              input_checkpoint = \"model_1.ckpt\", output_node_names = output_name, \n",
    "                              restore_op_name = \"save/restore_all\", filename_tensor_name = \"save/Const:0\",\n",
    "                              output_graph = \"frozen_model_1.pb\", clear_devices = True, initializer_nodes = \"\")\n",
    "    \n",
    "    input_graph_def = tf.GraphDef()\n",
    "    with tf.gfile.Open(\"frozen_model_1.pb\", \"r\") as f:\n",
    "        input_graph_def.ParseFromString(f.read())\n",
    "        \n",
    "    output_graph_def = optimize_for_inference_lib.optimize_for_inference( input_graph_def, [input_name],\n",
    "                                                                         [output_name], tf.float32.as_datatype_enum)\n",
    "    \n",
    "    with tf.gfile.FastGFile(\"optimized_model_1.pb\", \"w\") as f:\n",
    "        f.write(output_graph_def.SerializeToString())\n"
   ]
  },
  {
   "cell_type": "code",
   "execution_count": 8,
   "metadata": {},
   "outputs": [
    {
     "name": "stdout",
     "output_type": "stream",
     "text": [
      "(?, 4)\n",
      "WARNING:tensorflow:From /usr/local/lib/python2.7/dist-packages/tensorflow/python/util/tf_should_use.py:175: initialize_all_variables (from tensorflow.python.ops.variables) is deprecated and will be removed after 2017-03-02.\n",
      "Instructions for updating:\n",
      "Use `tf.global_variables_initializer` instead.\n"
     ]
    }
   ],
   "source": [
    "#Tensorflow full graph construction\n",
    "\n",
    "model_graph = tf.Graph()\n",
    "with model_graph.as_default():\n",
    "    with tf.name_scope('input'):\n",
    "        X = tf.placeholder(tf.float32, shape = [None, INPUT_SIZE], name = 'X_INPUT')\n",
    "        Y = tf.placeholder(tf.float32, shape = [None, NUM_CLASSES], name = 'Y_INPUT')\n",
    "\n",
    "    logits, softmax_output = inference_graph(X, layer_info)\n",
    "    loss, train_op, accuracy = train_graph(softmax_output, logits, Y, 0.01)\n",
    "\n",
    "    merged_summary_op = tf.summary.merge_all()\n",
    "\n",
    "    init = tf.initialize_all_variables()\n"
   ]
  },
  {
   "cell_type": "code",
   "execution_count": null,
   "metadata": {},
   "outputs": [
    {
     "name": "stdout",
     "output_type": "stream",
     "text": [
      "Epoch= 0, step= 0, accuracy= 0.15 loss= 1.43\n",
      "Epoch= 1, step= 0, accuracy= 0.25 loss= 1.35\n",
      "Epoch= 2, step= 0, accuracy= 0.40 loss= 1.29\n",
      "Epoch= 3, step= 0, accuracy= 0.60 loss= 1.22\n",
      "Epoch= 4, step= 0, accuracy= 0.65 loss= 1.14\n",
      "Epoch= 5, step= 0, accuracy= 0.65 loss= 1.04\n",
      "Epoch= 6, step= 0, accuracy= 0.65 loss= 0.94\n",
      "Epoch= 7, step= 0, accuracy= 0.70 loss= 0.84\n",
      "Epoch= 8, step= 0, accuracy= 0.75 loss= 0.73\n",
      "Epoch= 9, step= 0, accuracy= 0.85 loss= 0.65\n",
      "Epoch= 10, step= 0, accuracy= 0.95 loss= 0.53\n",
      "Epoch= 11, step= 0, accuracy= 0.95 loss= 0.41\n",
      "Epoch= 12, step= 0, accuracy= 1.00 loss= 0.28\n",
      "Epoch= 13, step= 0, accuracy= 1.00 loss= 0.20\n",
      "Epoch= 14, step= 0, accuracy= 1.00 loss= 0.16\n",
      "Epoch= 15, step= 0, accuracy= 1.00 loss= 0.13\n",
      "Epoch= 16, step= 0, accuracy= 1.00 loss= 0.10\n",
      "Epoch= 17, step= 0, accuracy= 1.00 loss= 0.08\n",
      "Epoch= 18, step= 0, accuracy= 1.00 loss= 0.07\n",
      "Epoch= 19, step= 0, accuracy= 1.00 loss= 0.05\n",
      "Epoch= 20, step= 0, accuracy= 1.00 loss= 0.05\n",
      "Epoch= 21, step= 0, accuracy= 1.00 loss= 0.04\n",
      "Epoch= 22, step= 0, accuracy= 1.00 loss= 0.03\n",
      "Epoch= 23, step= 0, accuracy= 1.00 loss= 0.03\n",
      "Epoch= 24, step= 0, accuracy= 1.00 loss= 0.03\n",
      "Epoch= 25, step= 0, accuracy= 1.00 loss= 0.02\n",
      "Epoch= 26, step= 0, accuracy= 1.00 loss= 0.02\n",
      "Epoch= 27, step= 0, accuracy= 1.00 loss= 0.02\n",
      "Epoch= 28, step= 0, accuracy= 1.00 loss= 0.02\n",
      "Epoch= 29, step= 0, accuracy= 1.00 loss= 0.02\n",
      "Epoch= 30, step= 0, accuracy= 1.00 loss= 0.02\n",
      "Epoch= 31, step= 0, accuracy= 1.00 loss= 0.01\n",
      "Epoch= 32, step= 0, accuracy= 1.00 loss= 0.01\n",
      "Epoch= 33, step= 0, accuracy= 1.00 loss= 0.01\n",
      "Epoch= 34, step= 0, accuracy= 1.00 loss= 0.01\n",
      "Epoch= 35, step= 0, accuracy= 1.00 loss= 0.01\n",
      "Epoch= 36, step= 0, accuracy= 1.00 loss= 0.01\n",
      "Epoch= 37, step= 0, accuracy= 1.00 loss= 0.01\n"
     ]
    }
   ],
   "source": [
    "#Training model\n",
    "\n",
    "with tf.Session(graph = model_graph) as sess:\n",
    "    \n",
    "    sess.run(init)\n",
    "    summary_writer = tf.summary.FileWriter(logs_path, graph=tf.get_default_graph())\n",
    "    #To save graph defenition\n",
    "    \n",
    "    \n",
    "    for epoch in range(0, NR_EPOCH):\n",
    "        for step in range(0, NR_STEP):\n",
    "            feed_X = X_all.iloc[step*BATCH_SIZE:(step+1)*BATCH_SIZE, :]\n",
    "            feed_Y = Y_all.iloc[step*BATCH_SIZE:(step+1)*BATCH_SIZE, :]\n",
    "            _, step_accuracy, step_loss, summary = sess.run([train_op, accuracy, loss, merged_summary_op],\n",
    "                                                  feed_dict={X:feed_X, Y:feed_Y})\n",
    "            summary_writer.add_summary(summary, epoch)\n",
    "            \n",
    "            if step % 1000 == 0:\n",
    "                print('Epoch= %d, step= %d, accuracy= %.2f loss= %.2f' % (epoch, step, step_accuracy, step_loss))\n",
    "    #For saving the graph defenition and trained model's weight in checkppoint\n",
    "    tf.train.write_graph(sess.graph_def, '.','model_1.pbtxt')\n",
    "    saver = tf.train.Saver()\n",
    "    saver.save(sess, save_path = \"model_1.ckpt\")"
   ]
  },
  {
   "cell_type": "code",
   "execution_count": null,
   "metadata": {},
   "outputs": [],
   "source": [
    "with model_graph.as_default():\n",
    "    node_list = [n.name for n in tf.get_default_graph().as_graph_def().node]"
   ]
  },
  {
   "cell_type": "code",
   "execution_count": null,
   "metadata": {},
   "outputs": [],
   "source": [
    "#print(node_list)"
   ]
  },
  {
   "cell_type": "code",
   "execution_count": null,
   "metadata": {},
   "outputs": [],
   "source": [
    "export_model(\"input/X_INPUT\", \"layer_5/softmax_output\")"
   ]
  },
  {
   "cell_type": "code",
   "execution_count": null,
   "metadata": {},
   "outputs": [],
   "source": []
  }
 ],
 "metadata": {
  "kernelspec": {
   "display_name": "Python 2",
   "language": "python",
   "name": "python2"
  },
  "language_info": {
   "codemirror_mode": {
    "name": "ipython",
    "version": 2
   },
   "file_extension": ".py",
   "mimetype": "text/x-python",
   "name": "python",
   "nbconvert_exporter": "python",
   "pygments_lexer": "ipython2",
   "version": "2.7.12"
  }
 },
 "nbformat": 4,
 "nbformat_minor": 1
}
